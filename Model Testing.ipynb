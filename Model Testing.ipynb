{
 "cells": [
  {
   "cell_type": "markdown",
   "id": "cf406fd7",
   "metadata": {},
   "source": [
    "### Model Testing\n",
    "Chase Kent-Dotson  \n",
    "April 4, 2022"
   ]
  },
  {
   "cell_type": "markdown",
   "id": "b9c1d564",
   "metadata": {},
   "source": [
    "### Introduction\n",
    "This workbook is a collection of tests and training outputs that I did early on. I initially thought that saving the Keras model would allow me to access the history but that is not the case, so there are no evaluation graphs available for these attempts, only the text output. I also overwrote some of my early code so not all models are represented, but all moderately successful attempts from this notebook are scored at the top of the Final Model Training notebook, where my final model is built and trained completely. All models attempted are also included as complete files in the models directory, even those not represented in the code below.\n",
    "  \n",
    "This notebook likely will not run from top to bottom without some re-modification and the output will not be preserved if modified and rerun, but I wanted to include it to show the process I went through to begin understanding use of the data pipeline and model construction. It contains my most successful CNN which did not use pretrained weights, and an explanation of the optimization process I went through to improve it before using transfer learning models, then my early attempts at transfer learning.   "
   ]
  },
  {
   "cell_type": "markdown",
   "id": "3617b380",
   "metadata": {},
   "source": [
    "### Table of Contents:\n",
    "* [CNN Modeling from Scratch](#2)\n",
    "* [Early Transfer Learning Models](#3)\n",
    "* [Conclusion](#4)"
   ]
  },
  {
   "cell_type": "markdown",
   "id": "a9e95d0b",
   "metadata": {},
   "source": [
    "### Imports <a class=\"anchor\" id=\"1\"></a>"
   ]
  },
  {
   "cell_type": "code",
   "execution_count": null,
   "id": "f913b483",
   "metadata": {},
   "outputs": [],
   "source": [
    "# data handling\n",
    "import numpy as np\n",
    "import pandas as pd\n",
    "\n",
    "# file directory interface\n",
    "import os.path, sys\n",
    "\n",
    "# neural network modeling\n",
    "import tensorflow as tf \n",
    "from tensorflow import keras\n",
    "from keras.models import Sequential\n",
    "from keras.layers import Conv2D\n",
    "from tensorflow.keras.layers import MaxPooling2D\n",
    "from keras.layers import Dropout\n",
    "from keras.layers import Flatten\n",
    "from keras.layers import Dense\n",
    "from keras.layers import BatchNormalization\n",
    "from tensorflow.keras.optimizers import Adam\n",
    "from keras.layers import GlobalAveragePooling2D\n",
    "from keras import Model\n",
    "\n",
    "# transfer learning modeling\n",
    "import efficientnet.tfkeras as efn\n",
    "\n",
    "# data generation for modeling\n",
    "from keras.preprocessing.image import ImageDataGenerator"
   ]
  },
  {
   "cell_type": "markdown",
   "id": "ed9e83b2",
   "metadata": {},
   "source": [
    "### CNN Modeling from Scratch <a class=\"anchor\" id=\"2\"></a>\n",
    "Below are my early attempts at modeling using CNNs from scratch without any pre-trained weights. "
   ]
  },
  {
   "cell_type": "code",
   "execution_count": 2,
   "id": "d7289812",
   "metadata": {},
   "outputs": [],
   "source": [
    "# set variables for ease of optimization later\n",
    "batch_size = 32\n",
    "num_classes = 196\n",
    "dropout = 0.2\n",
    "img_size= (224,224)"
   ]
  },
  {
   "cell_type": "code",
   "execution_count": 3,
   "id": "87f2bb75",
   "metadata": {},
   "outputs": [
    {
     "name": "stdout",
     "output_type": "stream",
     "text": [
      "Found 6598 images belonging to 196 classes.\n",
      "Found 1546 images belonging to 196 classes.\n",
      "Found 8041 images belonging to 196 classes.\n"
     ]
    }
   ],
   "source": [
    "#Data agumentation\n",
    "\n",
    "# data generator with a 1/255 rescale, +-20% random shear and zoom, and a random binary flip\n",
    "train_datagen = ImageDataGenerator(rescale=1./255,\n",
    "                                   shear_range=0.2,\n",
    "                                   zoom_range=0.2,\n",
    "                                   horizontal_flip=True,\n",
    "                                   samplewise_std_normalization=True,\n",
    "                                   samplewise_center=True,\n",
    "                                   validation_split=0.2)\n",
    "\n",
    "# no modifications to the test data\n",
    "test_datagen = ImageDataGenerator(rescale=1./255,\n",
    "                                  samplewise_std_normalization=True,\n",
    "                                  samplewise_center=True)\n",
    "\n",
    "# generate the data for the train set including automatic labels\n",
    "train_data = train_datagen.flow_from_directory('data/car_data/car_data/train',\n",
    "                                              target_size=img_size,\n",
    "                                              shuffle=True,\n",
    "                                              batch_size=batch_size,\n",
    "                                              class_mode='categorical',\n",
    "                                              subset='training')\n",
    "\n",
    "# generate the validation data from the portion set aside earlier\n",
    "validation_data = train_datagen.flow_from_directory('data/car_data/car_data/train',\n",
    "                                                    target_size=img_size,\n",
    "                                                    batch_size=batch_size,\n",
    "                                                    class_mode='categorical',\n",
    "                                                    subset='validation') \n",
    "\n",
    "# generate data for the test set\n",
    "test_data = test_datagen.flow_from_directory('data/car_data/car_data/test',\n",
    "                                              target_size=img_size,\n",
    "                                              batch_size=batch_size,\n",
    "                                              class_mode='categorical')"
   ]
  },
  {
   "cell_type": "code",
   "execution_count": 70,
   "id": "d32d219b",
   "metadata": {},
   "outputs": [
    {
     "name": "stdout",
     "output_type": "stream",
     "text": [
      "Model: \"sequential_15\"\n",
      "_________________________________________________________________\n",
      "Layer (type)                 Output Shape              Param #   \n",
      "=================================================================\n",
      "conv2d_51 (Conv2D)           (None, 126, 126, 32)      896       \n",
      "_________________________________________________________________\n",
      "batch_normalization_24 (Batc (None, 126, 126, 32)      128       \n",
      "_________________________________________________________________\n",
      "max_pooling2d_49 (MaxPooling (None, 63, 63, 32)        0         \n",
      "_________________________________________________________________\n",
      "dropout_63 (Dropout)         (None, 63, 63, 32)        0         \n",
      "_________________________________________________________________\n",
      "conv2d_52 (Conv2D)           (None, 61, 61, 64)        18496     \n",
      "_________________________________________________________________\n",
      "batch_normalization_25 (Batc (None, 61, 61, 64)        256       \n",
      "_________________________________________________________________\n",
      "max_pooling2d_50 (MaxPooling (None, 30, 30, 64)        0         \n",
      "_________________________________________________________________\n",
      "dropout_64 (Dropout)         (None, 30, 30, 64)        0         \n",
      "_________________________________________________________________\n",
      "conv2d_53 (Conv2D)           (None, 28, 28, 128)       73856     \n",
      "_________________________________________________________________\n",
      "batch_normalization_26 (Batc (None, 28, 28, 128)       512       \n",
      "_________________________________________________________________\n",
      "max_pooling2d_51 (MaxPooling (None, 14, 14, 128)       0         \n",
      "_________________________________________________________________\n",
      "dropout_65 (Dropout)         (None, 14, 14, 128)       0         \n",
      "_________________________________________________________________\n",
      "conv2d_54 (Conv2D)           (None, 12, 12, 256)       295168    \n",
      "_________________________________________________________________\n",
      "batch_normalization_27 (Batc (None, 12, 12, 256)       1024      \n",
      "_________________________________________________________________\n",
      "max_pooling2d_52 (MaxPooling (None, 6, 6, 256)         0         \n",
      "_________________________________________________________________\n",
      "dropout_66 (Dropout)         (None, 6, 6, 256)         0         \n",
      "_________________________________________________________________\n",
      "conv2d_55 (Conv2D)           (None, 4, 4, 512)         1180160   \n",
      "_________________________________________________________________\n",
      "batch_normalization_28 (Batc (None, 4, 4, 512)         2048      \n",
      "_________________________________________________________________\n",
      "max_pooling2d_53 (MaxPooling (None, 2, 2, 512)         0         \n",
      "_________________________________________________________________\n",
      "dropout_67 (Dropout)         (None, 2, 2, 512)         0         \n",
      "_________________________________________________________________\n",
      "flatten_13 (Flatten)         (None, 2048)              0         \n",
      "_________________________________________________________________\n",
      "dense_40 (Dense)             (None, 256)               524544    \n",
      "_________________________________________________________________\n",
      "dropout_68 (Dropout)         (None, 256)               0         \n",
      "_________________________________________________________________\n",
      "dense_41 (Dense)             (None, 256)               65792     \n",
      "_________________________________________________________________\n",
      "dropout_69 (Dropout)         (None, 256)               0         \n",
      "_________________________________________________________________\n",
      "dense_42 (Dense)             (None, 196)               50372     \n",
      "=================================================================\n",
      "Total params: 2,213,252\n",
      "Trainable params: 2,211,268\n",
      "Non-trainable params: 1,984\n",
      "_________________________________________________________________\n"
     ]
    }
   ],
   "source": [
    "CNN_model = Sequential()\n",
    "\n",
    "# Create simple CNN model architecture with Pooling for dimensionality reduction \n",
    "# and Dropout to reduce overfitting\n",
    "CNN_model.add(Conv2D(32, kernel_size=(3, 3), activation = 'relu', input_shape = (128, 128, 3)))\n",
    "CNN_model.add(BatchNormalization())\n",
    "CNN_model.add(MaxPooling2D(pool_size=(2, 2)))\n",
    "CNN_model.add(Dropout(dropout))\n",
    "\n",
    "# 2nd Convolution and Pooling Layer\n",
    "CNN_model.add(Conv2D(64,kernel_size=(3,3),activation='relu'))\n",
    "CNN_model.add(BatchNormalization())\n",
    "CNN_model.add(MaxPooling2D(pool_size=(2, 2)))\n",
    "CNN_model.add(Dropout(dropout))\n",
    "\n",
    "# 3rd Convolution and Pooling Layer\n",
    "CNN_model.add(Conv2D(128,kernel_size=(3,3),activation='relu'))\n",
    "CNN_model.add(BatchNormalization())\n",
    "CNN_model.add(MaxPooling2D(pool_size=(2, 2)))\n",
    "CNN_model.add(Dropout(dropout))\n",
    "\n",
    "# 4th Convolution and Pooling Layer\n",
    "CNN_model.add(Conv2D(256,kernel_size=(3,3),activation='relu'))\n",
    "CNN_model.add(BatchNormalization())\n",
    "CNN_model.add(MaxPooling2D(pool_size=(2, 2)))\n",
    "CNN_model.add(Dropout(dropout))\n",
    "\n",
    "# 5th Convolution and Pooling Layer\n",
    "CNN_model.add(Conv2D(512,kernel_size=(3,3),activation='relu'))\n",
    "CNN_model.add(BatchNormalization())\n",
    "CNN_model.add(MaxPooling2D(pool_size=(2, 2)))\n",
    "CNN_model.add(Dropout(dropout))\n",
    "\n",
    "# Flatten the output of our convolutional layers\n",
    "CNN_model.add(Flatten())\n",
    "\n",
    "# Add dense layers\n",
    "CNN_model.add(Dense(units=256,activation='relu'))\n",
    "CNN_model.add(Dropout(dropout))\n",
    "CNN_model.add(Dense(units=256,activation='relu'))\n",
    "CNN_model.add(Dropout(dropout))\n",
    "CNN_model.add(Dense(num_classes, activation='softmax'))\n",
    "\n",
    "# Print out a summary of the network\n",
    "CNN_model.summary()"
   ]
  },
  {
   "cell_type": "code",
   "execution_count": 71,
   "id": "64e6f395",
   "metadata": {},
   "outputs": [],
   "source": [
    "optimizer = keras.optimizers.Adam(learning_rate=0.001)\n",
    "\n",
    "# Compile the model with the desired loss function, optimizer, and metric(s) to track\n",
    "CNN_model.compile(loss = 'categorical_crossentropy',\n",
    "                  optimizer = optimizer,\n",
    "                  metrics = ['accuracy'])"
   ]
  },
  {
   "cell_type": "code",
   "execution_count": 72,
   "id": "1a9c1244",
   "metadata": {},
   "outputs": [
    {
     "name": "stdout",
     "output_type": "stream",
     "text": [
      "Epoch 1/10\n",
      "206/206 [==============================] - 241s 1s/step - loss: 5.3604 - accuracy: 0.0090 - val_loss: 5.3625 - val_accuracy: 0.0117\n",
      "Epoch 2/10\n",
      "206/206 [==============================] - 236s 1s/step - loss: 5.1967 - accuracy: 0.0128 - val_loss: 5.1474 - val_accuracy: 0.0169\n",
      "Epoch 3/10\n",
      "206/206 [==============================] - 234s 1s/step - loss: 5.0999 - accuracy: 0.0193 - val_loss: 5.0368 - val_accuracy: 0.0280\n",
      "Epoch 4/10\n",
      "206/206 [==============================] - 235s 1s/step - loss: 5.0186 - accuracy: 0.0225 - val_loss: 4.9464 - val_accuracy: 0.0332\n",
      "Epoch 5/10\n",
      "206/206 [==============================] - 244s 1s/step - loss: 4.9180 - accuracy: 0.0323 - val_loss: 4.9200 - val_accuracy: 0.0339\n",
      "Epoch 6/10\n",
      "206/206 [==============================] - 231s 1s/step - loss: 4.8197 - accuracy: 0.0353 - val_loss: 4.8212 - val_accuracy: 0.0319\n",
      "Epoch 7/10\n",
      "206/206 [==============================] - 234s 1s/step - loss: 4.7131 - accuracy: 0.0433 - val_loss: 4.6594 - val_accuracy: 0.0586\n",
      "Epoch 8/10\n",
      "206/206 [==============================] - 233s 1s/step - loss: 4.5929 - accuracy: 0.0510 - val_loss: 4.5204 - val_accuracy: 0.0527\n",
      "Epoch 9/10\n",
      "206/206 [==============================] - 241s 1s/step - loss: 4.4602 - accuracy: 0.0582 - val_loss: 4.4406 - val_accuracy: 0.0671\n",
      "Epoch 10/10\n",
      "206/206 [==============================] - 238s 1s/step - loss: 4.3335 - accuracy: 0.0733 - val_loss: 4.2528 - val_accuracy: 0.0801\n"
     ]
    }
   ],
   "source": [
    "history = CNN_model.fit(train_data,\n",
    "                        steps_per_epoch=train_data.samples // batch_size,\n",
    "                        validation_data=validation_data,\n",
    "                        epochs=10,\n",
    "                        validation_steps=validation_data.samples // batch_size)"
   ]
  },
  {
   "cell_type": "code",
   "execution_count": 73,
   "id": "2e0b7232",
   "metadata": {},
   "outputs": [
    {
     "name": "stdout",
     "output_type": "stream",
     "text": [
      "252/252 [==============================] - 92s 364ms/step - loss: 4.1674 - accuracy: 0.0931\n",
      "Test loss: 4.167438983917236\n",
      "Test accuracy: 0.09314762055873871\n"
     ]
    }
   ],
   "source": [
    "# Evaluate the model's performance on the test data\n",
    "score = CNN_model.evaluate(test_data, verbose=1)\n",
    "\n",
    "print('Test loss:', score[0])\n",
    "print('Test accuracy:', score[1])"
   ]
  },
  {
   "cell_type": "code",
   "execution_count": 74,
   "id": "0bdc852f",
   "metadata": {},
   "outputs": [
    {
     "name": "stdout",
     "output_type": "stream",
     "text": [
      "INFO:tensorflow:Assets written to: models/model_2\\assets\n"
     ]
    }
   ],
   "source": [
    "CNN_model.save('models/model_2')"
   ]
  },
  {
   "cell_type": "code",
   "execution_count": 75,
   "id": "00f5a00a",
   "metadata": {},
   "outputs": [],
   "source": [
    "reconstructed_model = keras.models.load_model('models/model_2')"
   ]
  },
  {
   "cell_type": "code",
   "execution_count": 76,
   "id": "f5ae469b",
   "metadata": {},
   "outputs": [
    {
     "name": "stdout",
     "output_type": "stream",
     "text": [
      "Epoch 1/30\n",
      "206/206 [==============================] - 241s 1s/step - loss: 4.2555 - accuracy: 0.0774 - val_loss: 4.1911 - val_accuracy: 0.0879\n",
      "Epoch 2/30\n",
      "206/206 [==============================] - 243s 1s/step - loss: 4.0933 - accuracy: 0.0903 - val_loss: 4.1650 - val_accuracy: 0.0885\n",
      "Epoch 3/30\n",
      "206/206 [==============================] - 227s 1s/step - loss: 3.9945 - accuracy: 0.1011 - val_loss: 4.2139 - val_accuracy: 0.0846\n",
      "Epoch 4/30\n",
      "206/206 [==============================] - 211s 1s/step - loss: 3.9030 - accuracy: 0.1087 - val_loss: 3.9838 - val_accuracy: 0.1094\n",
      "Epoch 5/30\n",
      "206/206 [==============================] - 211s 1s/step - loss: 3.7884 - accuracy: 0.1316 - val_loss: 3.9003 - val_accuracy: 0.1296\n",
      "Epoch 6/30\n",
      "206/206 [==============================] - 213s 1s/step - loss: 3.7034 - accuracy: 0.1377 - val_loss: 3.8055 - val_accuracy: 0.1335\n",
      "Epoch 7/30\n",
      "206/206 [==============================] - 244s 1s/step - loss: 3.6241 - accuracy: 0.1470 - val_loss: 3.7710 - val_accuracy: 0.1283\n",
      "Epoch 8/30\n",
      "206/206 [==============================] - 237s 1s/step - loss: 3.5399 - accuracy: 0.1567 - val_loss: 3.7110 - val_accuracy: 0.1348\n",
      "Epoch 9/30\n",
      "206/206 [==============================] - 227s 1s/step - loss: 3.4632 - accuracy: 0.1719 - val_loss: 3.6431 - val_accuracy: 0.1517\n",
      "Epoch 10/30\n",
      "206/206 [==============================] - 216s 1s/step - loss: 3.4095 - accuracy: 0.1777 - val_loss: 3.5411 - val_accuracy: 0.1582\n",
      "Epoch 11/30\n",
      "206/206 [==============================] - 231s 1s/step - loss: 3.2884 - accuracy: 0.2012 - val_loss: 3.5668 - val_accuracy: 0.1699\n",
      "Epoch 12/30\n",
      "206/206 [==============================] - 243s 1s/step - loss: 3.2025 - accuracy: 0.2065 - val_loss: 3.3841 - val_accuracy: 0.1888\n",
      "Epoch 13/30\n",
      "206/206 [==============================] - 237s 1s/step - loss: 3.1201 - accuracy: 0.2242 - val_loss: 3.4475 - val_accuracy: 0.2025\n",
      "Epoch 14/30\n",
      "206/206 [==============================] - 241s 1s/step - loss: 3.0662 - accuracy: 0.2332 - val_loss: 3.4347 - val_accuracy: 0.1992\n",
      "Epoch 15/30\n",
      "206/206 [==============================] - 276s 1s/step - loss: 3.0025 - accuracy: 0.2434 - val_loss: 3.4736 - val_accuracy: 0.1908\n",
      "Epoch 16/30\n",
      "206/206 [==============================] - 262s 1s/step - loss: 2.9202 - accuracy: 0.2551 - val_loss: 3.3469 - val_accuracy: 0.2148\n",
      "Epoch 17/30\n",
      "206/206 [==============================] - 259s 1s/step - loss: 2.8517 - accuracy: 0.2679 - val_loss: 3.3514 - val_accuracy: 0.2201\n",
      "Epoch 18/30\n",
      "206/206 [==============================] - 250s 1s/step - loss: 2.8204 - accuracy: 0.2856 - val_loss: 3.2235 - val_accuracy: 0.2396\n",
      "Epoch 19/30\n",
      "206/206 [==============================] - 254s 1s/step - loss: 2.7079 - accuracy: 0.2985 - val_loss: 3.1392 - val_accuracy: 0.2415\n",
      "Epoch 20/30\n",
      "206/206 [==============================] - 258s 1s/step - loss: 2.6339 - accuracy: 0.3169 - val_loss: 3.0993 - val_accuracy: 0.2513\n",
      "Epoch 21/30\n",
      "206/206 [==============================] - 263s 1s/step - loss: 2.5808 - accuracy: 0.3150 - val_loss: 3.1812 - val_accuracy: 0.2448\n",
      "Epoch 22/30\n",
      "206/206 [==============================] - 251s 1s/step - loss: 2.5316 - accuracy: 0.3345 - val_loss: 3.0879 - val_accuracy: 0.2643\n",
      "Epoch 23/30\n",
      "206/206 [==============================] - 245s 1s/step - loss: 2.4943 - accuracy: 0.3424 - val_loss: 3.0984 - val_accuracy: 0.2676\n",
      "Epoch 24/30\n",
      "206/206 [==============================] - 255s 1s/step - loss: 2.4153 - accuracy: 0.3538 - val_loss: 3.1409 - val_accuracy: 0.2624\n",
      "Epoch 25/30\n",
      "206/206 [==============================] - 246s 1s/step - loss: 2.3582 - accuracy: 0.3614 - val_loss: 3.0419 - val_accuracy: 0.2780\n",
      "Epoch 26/30\n",
      "206/206 [==============================] - 246s 1s/step - loss: 2.3123 - accuracy: 0.3788 - val_loss: 2.9822 - val_accuracy: 0.2943\n",
      "Epoch 27/30\n",
      "206/206 [==============================] - 249s 1s/step - loss: 2.2935 - accuracy: 0.3841 - val_loss: 3.0174 - val_accuracy: 0.2852\n",
      "Epoch 28/30\n",
      "206/206 [==============================] - 254s 1s/step - loss: 2.2222 - accuracy: 0.4002 - val_loss: 2.9238 - val_accuracy: 0.3053\n",
      "Epoch 29/30\n",
      "206/206 [==============================] - 257s 1s/step - loss: 2.1675 - accuracy: 0.4185 - val_loss: 2.9340 - val_accuracy: 0.3138\n",
      "Epoch 30/30\n",
      "206/206 [==============================] - 244s 1s/step - loss: 2.1455 - accuracy: 0.4178 - val_loss: 3.0311 - val_accuracy: 0.2956\n"
     ]
    }
   ],
   "source": [
    "r_history = reconstructed_model.fit(train_data,\n",
    "                                    steps_per_epoch=train_data.samples // batch_size,\n",
    "                                    validation_data=validation_data,\n",
    "                                    epochs=30,\n",
    "                                    validation_steps=validation_data.samples // batch_size)"
   ]
  },
  {
   "cell_type": "code",
   "execution_count": 77,
   "id": "2e3cd6fd",
   "metadata": {},
   "outputs": [
    {
     "name": "stdout",
     "output_type": "stream",
     "text": [
      "252/252 [==============================] - 95s 378ms/step - loss: 2.8250 - accuracy: 0.3329\n",
      "Test loss: 2.8250043392181396\n",
      "Test accuracy: 0.33291879296302795\n"
     ]
    }
   ],
   "source": [
    "# Evaluate the model's performance on the test data\n",
    "score = reconstructed_model.evaluate(test_data, verbose=1)\n",
    "\n",
    "print('Test loss:', score[0])\n",
    "print('Test accuracy:', score[1])"
   ]
  },
  {
   "cell_type": "code",
   "execution_count": 78,
   "id": "47231346",
   "metadata": {},
   "outputs": [
    {
     "name": "stdout",
     "output_type": "stream",
     "text": [
      "INFO:tensorflow:Assets written to: models/model_2\\assets\n"
     ]
    }
   ],
   "source": [
    "reconstructed_model.save('models/model_2')"
   ]
  },
  {
   "cell_type": "markdown",
   "id": "3babb8f9",
   "metadata": {},
   "source": [
    "### CNN Modeling from Scratch: Findings\n",
    "Above is the construction and training output for my most successful CNN without using pre-trained weights. The first CNN constructed did not use batch normalization, and did not contain the final 512 node convolutional layer. It's maximum accuracy was __7%__. The model above, model_2, surpassed that accuracy in the first 10 epochs, and had a final accuracy of __33%__ after 40 epochs of training when the validation loss minimization and accuracy begun to stop their progress. The addition of batch normalization was helpful in preventing overtaining as the trend of validation progress slowed much quicker in the first model without it and the validation scores remained closer to the training scores for longer.  \n",
    "  \n",
    "Given that this is a 196 class multi-classification problem, I gathered from my previous tests that in order to achieve an accuracy I'd be satisfied with out of a CNN from scratch I'd need to increase complextity and then massively increase measures to combat overtraining (like lowering the learning rate), while investing huge amounts of time for the model to learn the problem. I figured the best pathway forward was to see if using a base model with pre trained weights could help me achieve a respectable accuracy within the amount of time I had available, so I moved onto that next. "
   ]
  },
  {
   "cell_type": "markdown",
   "id": "30667432",
   "metadata": {},
   "source": [
    "### Early Transfer Learning Models <a class=\"anchor\" id=\"3\"></a>\n",
    "Below are some of my first attempts at applying transfer learning models to the problem."
   ]
  },
  {
   "cell_type": "code",
   "execution_count": 27,
   "id": "9d49d759",
   "metadata": {},
   "outputs": [
    {
     "name": "stdout",
     "output_type": "stream",
     "text": [
      "Model: \"model_5\"\n",
      "__________________________________________________________________________________________________\n",
      "Layer (type)                    Output Shape         Param #     Connected to                     \n",
      "==================================================================================================\n",
      "input_6 (InputLayer)            [(None, None, None,  0                                            \n",
      "__________________________________________________________________________________________________\n",
      "stem_conv (Conv2D)              (None, None, None, 3 864         input_6[0][0]                    \n",
      "__________________________________________________________________________________________________\n",
      "stem_bn (BatchNormalization)    (None, None, None, 3 128         stem_conv[0][0]                  \n",
      "__________________________________________________________________________________________________\n",
      "stem_activation (Activation)    (None, None, None, 3 0           stem_bn[0][0]                    \n",
      "__________________________________________________________________________________________________\n",
      "block1a_dwconv (DepthwiseConv2D (None, None, None, 3 288         stem_activation[0][0]            \n",
      "__________________________________________________________________________________________________\n",
      "block1a_bn (BatchNormalization) (None, None, None, 3 128         block1a_dwconv[0][0]             \n",
      "__________________________________________________________________________________________________\n",
      "block1a_activation (Activation) (None, None, None, 3 0           block1a_bn[0][0]                 \n",
      "__________________________________________________________________________________________________\n",
      "block1a_se_squeeze (GlobalAvera (None, 32)           0           block1a_activation[0][0]         \n",
      "__________________________________________________________________________________________________\n",
      "block1a_se_reshape (Reshape)    (None, 1, 1, 32)     0           block1a_se_squeeze[0][0]         \n",
      "__________________________________________________________________________________________________\n",
      "block1a_se_reduce (Conv2D)      (None, 1, 1, 8)      264         block1a_se_reshape[0][0]         \n",
      "__________________________________________________________________________________________________\n",
      "block1a_se_expand (Conv2D)      (None, 1, 1, 32)     288         block1a_se_reduce[0][0]          \n",
      "__________________________________________________________________________________________________\n",
      "block1a_se_excite (Multiply)    (None, None, None, 3 0           block1a_activation[0][0]         \n",
      "                                                                 block1a_se_expand[0][0]          \n",
      "__________________________________________________________________________________________________\n",
      "block1a_project_conv (Conv2D)   (None, None, None, 1 512         block1a_se_excite[0][0]          \n",
      "__________________________________________________________________________________________________\n",
      "block1a_project_bn (BatchNormal (None, None, None, 1 64          block1a_project_conv[0][0]       \n",
      "__________________________________________________________________________________________________\n",
      "block2a_expand_conv (Conv2D)    (None, None, None, 9 1536        block1a_project_bn[0][0]         \n",
      "__________________________________________________________________________________________________\n",
      "block2a_expand_bn (BatchNormali (None, None, None, 9 384         block2a_expand_conv[0][0]        \n",
      "__________________________________________________________________________________________________\n",
      "block2a_expand_activation (Acti (None, None, None, 9 0           block2a_expand_bn[0][0]          \n",
      "__________________________________________________________________________________________________\n",
      "block2a_dwconv (DepthwiseConv2D (None, None, None, 9 864         block2a_expand_activation[0][0]  \n",
      "__________________________________________________________________________________________________\n",
      "block2a_bn (BatchNormalization) (None, None, None, 9 384         block2a_dwconv[0][0]             \n",
      "__________________________________________________________________________________________________\n",
      "block2a_activation (Activation) (None, None, None, 9 0           block2a_bn[0][0]                 \n",
      "__________________________________________________________________________________________________\n",
      "block2a_se_squeeze (GlobalAvera (None, 96)           0           block2a_activation[0][0]         \n",
      "__________________________________________________________________________________________________\n",
      "block2a_se_reshape (Reshape)    (None, 1, 1, 96)     0           block2a_se_squeeze[0][0]         \n",
      "__________________________________________________________________________________________________\n",
      "block2a_se_reduce (Conv2D)      (None, 1, 1, 4)      388         block2a_se_reshape[0][0]         \n",
      "__________________________________________________________________________________________________\n",
      "block2a_se_expand (Conv2D)      (None, 1, 1, 96)     480         block2a_se_reduce[0][0]          \n",
      "__________________________________________________________________________________________________\n",
      "block2a_se_excite (Multiply)    (None, None, None, 9 0           block2a_activation[0][0]         \n",
      "                                                                 block2a_se_expand[0][0]          \n",
      "__________________________________________________________________________________________________\n",
      "block2a_project_conv (Conv2D)   (None, None, None, 2 2304        block2a_se_excite[0][0]          \n",
      "__________________________________________________________________________________________________\n",
      "block2a_project_bn (BatchNormal (None, None, None, 2 96          block2a_project_conv[0][0]       \n",
      "__________________________________________________________________________________________________\n",
      "block2b_expand_conv (Conv2D)    (None, None, None, 1 3456        block2a_project_bn[0][0]         \n",
      "__________________________________________________________________________________________________\n",
      "block2b_expand_bn (BatchNormali (None, None, None, 1 576         block2b_expand_conv[0][0]        \n",
      "__________________________________________________________________________________________________\n",
      "block2b_expand_activation (Acti (None, None, None, 1 0           block2b_expand_bn[0][0]          \n",
      "__________________________________________________________________________________________________\n",
      "block2b_dwconv (DepthwiseConv2D (None, None, None, 1 1296        block2b_expand_activation[0][0]  \n",
      "__________________________________________________________________________________________________\n",
      "block2b_bn (BatchNormalization) (None, None, None, 1 576         block2b_dwconv[0][0]             \n",
      "__________________________________________________________________________________________________\n",
      "block2b_activation (Activation) (None, None, None, 1 0           block2b_bn[0][0]                 \n",
      "__________________________________________________________________________________________________\n",
      "block2b_se_squeeze (GlobalAvera (None, 144)          0           block2b_activation[0][0]         \n",
      "__________________________________________________________________________________________________\n",
      "block2b_se_reshape (Reshape)    (None, 1, 1, 144)    0           block2b_se_squeeze[0][0]         \n",
      "__________________________________________________________________________________________________\n",
      "block2b_se_reduce (Conv2D)      (None, 1, 1, 6)      870         block2b_se_reshape[0][0]         \n",
      "__________________________________________________________________________________________________\n",
      "block2b_se_expand (Conv2D)      (None, 1, 1, 144)    1008        block2b_se_reduce[0][0]          \n",
      "__________________________________________________________________________________________________\n",
      "block2b_se_excite (Multiply)    (None, None, None, 1 0           block2b_activation[0][0]         \n",
      "                                                                 block2b_se_expand[0][0]          \n",
      "__________________________________________________________________________________________________\n",
      "block2b_project_conv (Conv2D)   (None, None, None, 2 3456        block2b_se_excite[0][0]          \n",
      "__________________________________________________________________________________________________\n",
      "block2b_project_bn (BatchNormal (None, None, None, 2 96          block2b_project_conv[0][0]       \n",
      "__________________________________________________________________________________________________\n",
      "block2b_drop (FixedDropout)     (None, None, None, 2 0           block2b_project_bn[0][0]         \n",
      "__________________________________________________________________________________________________\n",
      "block2b_add (Add)               (None, None, None, 2 0           block2b_drop[0][0]               \n",
      "                                                                 block2a_project_bn[0][0]         \n",
      "__________________________________________________________________________________________________\n",
      "block3a_expand_conv (Conv2D)    (None, None, None, 1 3456        block2b_add[0][0]                \n",
      "__________________________________________________________________________________________________\n",
      "block3a_expand_bn (BatchNormali (None, None, None, 1 576         block3a_expand_conv[0][0]        \n",
      "__________________________________________________________________________________________________\n",
      "block3a_expand_activation (Acti (None, None, None, 1 0           block3a_expand_bn[0][0]          \n",
      "__________________________________________________________________________________________________\n",
      "block3a_dwconv (DepthwiseConv2D (None, None, None, 1 3600        block3a_expand_activation[0][0]  \n",
      "__________________________________________________________________________________________________\n",
      "block3a_bn (BatchNormalization) (None, None, None, 1 576         block3a_dwconv[0][0]             \n",
      "__________________________________________________________________________________________________\n",
      "block3a_activation (Activation) (None, None, None, 1 0           block3a_bn[0][0]                 \n",
      "__________________________________________________________________________________________________\n",
      "block3a_se_squeeze (GlobalAvera (None, 144)          0           block3a_activation[0][0]         \n",
      "__________________________________________________________________________________________________\n",
      "block3a_se_reshape (Reshape)    (None, 1, 1, 144)    0           block3a_se_squeeze[0][0]         \n",
      "__________________________________________________________________________________________________\n",
      "block3a_se_reduce (Conv2D)      (None, 1, 1, 6)      870         block3a_se_reshape[0][0]         \n",
      "__________________________________________________________________________________________________\n",
      "block3a_se_expand (Conv2D)      (None, 1, 1, 144)    1008        block3a_se_reduce[0][0]          \n",
      "__________________________________________________________________________________________________\n",
      "block3a_se_excite (Multiply)    (None, None, None, 1 0           block3a_activation[0][0]         \n",
      "                                                                 block3a_se_expand[0][0]          \n",
      "__________________________________________________________________________________________________\n",
      "block3a_project_conv (Conv2D)   (None, None, None, 4 5760        block3a_se_excite[0][0]          \n",
      "__________________________________________________________________________________________________\n",
      "block3a_project_bn (BatchNormal (None, None, None, 4 160         block3a_project_conv[0][0]       \n",
      "__________________________________________________________________________________________________\n",
      "block3b_expand_conv (Conv2D)    (None, None, None, 2 9600        block3a_project_bn[0][0]         \n",
      "__________________________________________________________________________________________________\n",
      "block3b_expand_bn (BatchNormali (None, None, None, 2 960         block3b_expand_conv[0][0]        \n",
      "__________________________________________________________________________________________________\n",
      "block3b_expand_activation (Acti (None, None, None, 2 0           block3b_expand_bn[0][0]          \n",
      "__________________________________________________________________________________________________\n",
      "block3b_dwconv (DepthwiseConv2D (None, None, None, 2 6000        block3b_expand_activation[0][0]  \n",
      "__________________________________________________________________________________________________\n",
      "block3b_bn (BatchNormalization) (None, None, None, 2 960         block3b_dwconv[0][0]             \n",
      "__________________________________________________________________________________________________\n",
      "block3b_activation (Activation) (None, None, None, 2 0           block3b_bn[0][0]                 \n",
      "__________________________________________________________________________________________________\n",
      "block3b_se_squeeze (GlobalAvera (None, 240)          0           block3b_activation[0][0]         \n",
      "__________________________________________________________________________________________________\n",
      "block3b_se_reshape (Reshape)    (None, 1, 1, 240)    0           block3b_se_squeeze[0][0]         \n",
      "__________________________________________________________________________________________________\n",
      "block3b_se_reduce (Conv2D)      (None, 1, 1, 10)     2410        block3b_se_reshape[0][0]         \n",
      "__________________________________________________________________________________________________\n",
      "block3b_se_expand (Conv2D)      (None, 1, 1, 240)    2640        block3b_se_reduce[0][0]          \n",
      "__________________________________________________________________________________________________\n",
      "block3b_se_excite (Multiply)    (None, None, None, 2 0           block3b_activation[0][0]         \n",
      "                                                                 block3b_se_expand[0][0]          \n",
      "__________________________________________________________________________________________________\n",
      "block3b_project_conv (Conv2D)   (None, None, None, 4 9600        block3b_se_excite[0][0]          \n",
      "__________________________________________________________________________________________________\n",
      "block3b_project_bn (BatchNormal (None, None, None, 4 160         block3b_project_conv[0][0]       \n",
      "__________________________________________________________________________________________________\n",
      "block3b_drop (FixedDropout)     (None, None, None, 4 0           block3b_project_bn[0][0]         \n",
      "__________________________________________________________________________________________________\n",
      "block3b_add (Add)               (None, None, None, 4 0           block3b_drop[0][0]               \n",
      "                                                                 block3a_project_bn[0][0]         \n",
      "__________________________________________________________________________________________________\n",
      "block4a_expand_conv (Conv2D)    (None, None, None, 2 9600        block3b_add[0][0]                \n",
      "__________________________________________________________________________________________________\n",
      "block4a_expand_bn (BatchNormali (None, None, None, 2 960         block4a_expand_conv[0][0]        \n",
      "__________________________________________________________________________________________________\n",
      "block4a_expand_activation (Acti (None, None, None, 2 0           block4a_expand_bn[0][0]          \n",
      "__________________________________________________________________________________________________\n",
      "block4a_dwconv (DepthwiseConv2D (None, None, None, 2 2160        block4a_expand_activation[0][0]  \n",
      "__________________________________________________________________________________________________\n",
      "block4a_bn (BatchNormalization) (None, None, None, 2 960         block4a_dwconv[0][0]             \n",
      "__________________________________________________________________________________________________\n",
      "block4a_activation (Activation) (None, None, None, 2 0           block4a_bn[0][0]                 \n",
      "__________________________________________________________________________________________________\n",
      "block4a_se_squeeze (GlobalAvera (None, 240)          0           block4a_activation[0][0]         \n",
      "__________________________________________________________________________________________________\n",
      "block4a_se_reshape (Reshape)    (None, 1, 1, 240)    0           block4a_se_squeeze[0][0]         \n",
      "__________________________________________________________________________________________________\n",
      "block4a_se_reduce (Conv2D)      (None, 1, 1, 10)     2410        block4a_se_reshape[0][0]         \n",
      "__________________________________________________________________________________________________\n",
      "block4a_se_expand (Conv2D)      (None, 1, 1, 240)    2640        block4a_se_reduce[0][0]          \n",
      "__________________________________________________________________________________________________\n",
      "block4a_se_excite (Multiply)    (None, None, None, 2 0           block4a_activation[0][0]         \n",
      "                                                                 block4a_se_expand[0][0]          \n",
      "__________________________________________________________________________________________________\n",
      "block4a_project_conv (Conv2D)   (None, None, None, 8 19200       block4a_se_excite[0][0]          \n",
      "__________________________________________________________________________________________________\n",
      "block4a_project_bn (BatchNormal (None, None, None, 8 320         block4a_project_conv[0][0]       \n",
      "__________________________________________________________________________________________________\n",
      "block4b_expand_conv (Conv2D)    (None, None, None, 4 38400       block4a_project_bn[0][0]         \n",
      "__________________________________________________________________________________________________\n",
      "block4b_expand_bn (BatchNormali (None, None, None, 4 1920        block4b_expand_conv[0][0]        \n",
      "__________________________________________________________________________________________________\n",
      "block4b_expand_activation (Acti (None, None, None, 4 0           block4b_expand_bn[0][0]          \n",
      "__________________________________________________________________________________________________\n",
      "block4b_dwconv (DepthwiseConv2D (None, None, None, 4 4320        block4b_expand_activation[0][0]  \n",
      "__________________________________________________________________________________________________\n",
      "block4b_bn (BatchNormalization) (None, None, None, 4 1920        block4b_dwconv[0][0]             \n",
      "__________________________________________________________________________________________________\n",
      "block4b_activation (Activation) (None, None, None, 4 0           block4b_bn[0][0]                 \n",
      "__________________________________________________________________________________________________\n",
      "block4b_se_squeeze (GlobalAvera (None, 480)          0           block4b_activation[0][0]         \n",
      "__________________________________________________________________________________________________\n",
      "block4b_se_reshape (Reshape)    (None, 1, 1, 480)    0           block4b_se_squeeze[0][0]         \n",
      "__________________________________________________________________________________________________\n",
      "block4b_se_reduce (Conv2D)      (None, 1, 1, 20)     9620        block4b_se_reshape[0][0]         \n",
      "__________________________________________________________________________________________________\n",
      "block4b_se_expand (Conv2D)      (None, 1, 1, 480)    10080       block4b_se_reduce[0][0]          \n",
      "__________________________________________________________________________________________________\n",
      "block4b_se_excite (Multiply)    (None, None, None, 4 0           block4b_activation[0][0]         \n",
      "                                                                 block4b_se_expand[0][0]          \n",
      "__________________________________________________________________________________________________\n",
      "block4b_project_conv (Conv2D)   (None, None, None, 8 38400       block4b_se_excite[0][0]          \n",
      "__________________________________________________________________________________________________\n",
      "block4b_project_bn (BatchNormal (None, None, None, 8 320         block4b_project_conv[0][0]       \n",
      "__________________________________________________________________________________________________\n",
      "block4b_drop (FixedDropout)     (None, None, None, 8 0           block4b_project_bn[0][0]         \n",
      "__________________________________________________________________________________________________\n",
      "block4b_add (Add)               (None, None, None, 8 0           block4b_drop[0][0]               \n",
      "                                                                 block4a_project_bn[0][0]         \n",
      "__________________________________________________________________________________________________\n",
      "block4c_expand_conv (Conv2D)    (None, None, None, 4 38400       block4b_add[0][0]                \n",
      "__________________________________________________________________________________________________\n",
      "block4c_expand_bn (BatchNormali (None, None, None, 4 1920        block4c_expand_conv[0][0]        \n",
      "__________________________________________________________________________________________________\n",
      "block4c_expand_activation (Acti (None, None, None, 4 0           block4c_expand_bn[0][0]          \n",
      "__________________________________________________________________________________________________\n",
      "block4c_dwconv (DepthwiseConv2D (None, None, None, 4 4320        block4c_expand_activation[0][0]  \n",
      "__________________________________________________________________________________________________\n",
      "block4c_bn (BatchNormalization) (None, None, None, 4 1920        block4c_dwconv[0][0]             \n",
      "__________________________________________________________________________________________________\n",
      "block4c_activation (Activation) (None, None, None, 4 0           block4c_bn[0][0]                 \n",
      "__________________________________________________________________________________________________\n",
      "block4c_se_squeeze (GlobalAvera (None, 480)          0           block4c_activation[0][0]         \n",
      "__________________________________________________________________________________________________\n",
      "block4c_se_reshape (Reshape)    (None, 1, 1, 480)    0           block4c_se_squeeze[0][0]         \n",
      "__________________________________________________________________________________________________\n",
      "block4c_se_reduce (Conv2D)      (None, 1, 1, 20)     9620        block4c_se_reshape[0][0]         \n",
      "__________________________________________________________________________________________________\n",
      "block4c_se_expand (Conv2D)      (None, 1, 1, 480)    10080       block4c_se_reduce[0][0]          \n",
      "__________________________________________________________________________________________________\n",
      "block4c_se_excite (Multiply)    (None, None, None, 4 0           block4c_activation[0][0]         \n",
      "                                                                 block4c_se_expand[0][0]          \n",
      "__________________________________________________________________________________________________\n",
      "block4c_project_conv (Conv2D)   (None, None, None, 8 38400       block4c_se_excite[0][0]          \n",
      "__________________________________________________________________________________________________\n",
      "block4c_project_bn (BatchNormal (None, None, None, 8 320         block4c_project_conv[0][0]       \n",
      "__________________________________________________________________________________________________\n",
      "block4c_drop (FixedDropout)     (None, None, None, 8 0           block4c_project_bn[0][0]         \n",
      "__________________________________________________________________________________________________\n",
      "block4c_add (Add)               (None, None, None, 8 0           block4c_drop[0][0]               \n",
      "                                                                 block4b_add[0][0]                \n",
      "__________________________________________________________________________________________________\n",
      "block5a_expand_conv (Conv2D)    (None, None, None, 4 38400       block4c_add[0][0]                \n",
      "__________________________________________________________________________________________________\n",
      "block5a_expand_bn (BatchNormali (None, None, None, 4 1920        block5a_expand_conv[0][0]        \n",
      "__________________________________________________________________________________________________\n",
      "block5a_expand_activation (Acti (None, None, None, 4 0           block5a_expand_bn[0][0]          \n",
      "__________________________________________________________________________________________________\n",
      "block5a_dwconv (DepthwiseConv2D (None, None, None, 4 12000       block5a_expand_activation[0][0]  \n",
      "__________________________________________________________________________________________________\n",
      "block5a_bn (BatchNormalization) (None, None, None, 4 1920        block5a_dwconv[0][0]             \n",
      "__________________________________________________________________________________________________\n",
      "block5a_activation (Activation) (None, None, None, 4 0           block5a_bn[0][0]                 \n",
      "__________________________________________________________________________________________________\n",
      "block5a_se_squeeze (GlobalAvera (None, 480)          0           block5a_activation[0][0]         \n",
      "__________________________________________________________________________________________________\n",
      "block5a_se_reshape (Reshape)    (None, 1, 1, 480)    0           block5a_se_squeeze[0][0]         \n",
      "__________________________________________________________________________________________________\n",
      "block5a_se_reduce (Conv2D)      (None, 1, 1, 20)     9620        block5a_se_reshape[0][0]         \n",
      "__________________________________________________________________________________________________\n",
      "block5a_se_expand (Conv2D)      (None, 1, 1, 480)    10080       block5a_se_reduce[0][0]          \n",
      "__________________________________________________________________________________________________\n",
      "block5a_se_excite (Multiply)    (None, None, None, 4 0           block5a_activation[0][0]         \n",
      "                                                                 block5a_se_expand[0][0]          \n",
      "__________________________________________________________________________________________________\n",
      "block5a_project_conv (Conv2D)   (None, None, None, 1 53760       block5a_se_excite[0][0]          \n",
      "__________________________________________________________________________________________________\n",
      "block5a_project_bn (BatchNormal (None, None, None, 1 448         block5a_project_conv[0][0]       \n",
      "__________________________________________________________________________________________________\n",
      "block5b_expand_conv (Conv2D)    (None, None, None, 6 75264       block5a_project_bn[0][0]         \n",
      "__________________________________________________________________________________________________\n",
      "block5b_expand_bn (BatchNormali (None, None, None, 6 2688        block5b_expand_conv[0][0]        \n",
      "__________________________________________________________________________________________________\n",
      "block5b_expand_activation (Acti (None, None, None, 6 0           block5b_expand_bn[0][0]          \n",
      "__________________________________________________________________________________________________\n",
      "block5b_dwconv (DepthwiseConv2D (None, None, None, 6 16800       block5b_expand_activation[0][0]  \n",
      "__________________________________________________________________________________________________\n",
      "block5b_bn (BatchNormalization) (None, None, None, 6 2688        block5b_dwconv[0][0]             \n",
      "__________________________________________________________________________________________________\n",
      "block5b_activation (Activation) (None, None, None, 6 0           block5b_bn[0][0]                 \n",
      "__________________________________________________________________________________________________\n",
      "block5b_se_squeeze (GlobalAvera (None, 672)          0           block5b_activation[0][0]         \n",
      "__________________________________________________________________________________________________\n",
      "block5b_se_reshape (Reshape)    (None, 1, 1, 672)    0           block5b_se_squeeze[0][0]         \n",
      "__________________________________________________________________________________________________\n",
      "block5b_se_reduce (Conv2D)      (None, 1, 1, 28)     18844       block5b_se_reshape[0][0]         \n",
      "__________________________________________________________________________________________________\n",
      "block5b_se_expand (Conv2D)      (None, 1, 1, 672)    19488       block5b_se_reduce[0][0]          \n",
      "__________________________________________________________________________________________________\n",
      "block5b_se_excite (Multiply)    (None, None, None, 6 0           block5b_activation[0][0]         \n",
      "                                                                 block5b_se_expand[0][0]          \n",
      "__________________________________________________________________________________________________\n",
      "block5b_project_conv (Conv2D)   (None, None, None, 1 75264       block5b_se_excite[0][0]          \n",
      "__________________________________________________________________________________________________\n",
      "block5b_project_bn (BatchNormal (None, None, None, 1 448         block5b_project_conv[0][0]       \n",
      "__________________________________________________________________________________________________\n",
      "block5b_drop (FixedDropout)     (None, None, None, 1 0           block5b_project_bn[0][0]         \n",
      "__________________________________________________________________________________________________\n",
      "block5b_add (Add)               (None, None, None, 1 0           block5b_drop[0][0]               \n",
      "                                                                 block5a_project_bn[0][0]         \n",
      "__________________________________________________________________________________________________\n",
      "block5c_expand_conv (Conv2D)    (None, None, None, 6 75264       block5b_add[0][0]                \n",
      "__________________________________________________________________________________________________\n",
      "block5c_expand_bn (BatchNormali (None, None, None, 6 2688        block5c_expand_conv[0][0]        \n",
      "__________________________________________________________________________________________________\n",
      "block5c_expand_activation (Acti (None, None, None, 6 0           block5c_expand_bn[0][0]          \n",
      "__________________________________________________________________________________________________\n",
      "block5c_dwconv (DepthwiseConv2D (None, None, None, 6 16800       block5c_expand_activation[0][0]  \n",
      "__________________________________________________________________________________________________\n",
      "block5c_bn (BatchNormalization) (None, None, None, 6 2688        block5c_dwconv[0][0]             \n",
      "__________________________________________________________________________________________________\n",
      "block5c_activation (Activation) (None, None, None, 6 0           block5c_bn[0][0]                 \n",
      "__________________________________________________________________________________________________\n",
      "block5c_se_squeeze (GlobalAvera (None, 672)          0           block5c_activation[0][0]         \n",
      "__________________________________________________________________________________________________\n",
      "block5c_se_reshape (Reshape)    (None, 1, 1, 672)    0           block5c_se_squeeze[0][0]         \n",
      "__________________________________________________________________________________________________\n",
      "block5c_se_reduce (Conv2D)      (None, 1, 1, 28)     18844       block5c_se_reshape[0][0]         \n",
      "__________________________________________________________________________________________________\n",
      "block5c_se_expand (Conv2D)      (None, 1, 1, 672)    19488       block5c_se_reduce[0][0]          \n",
      "__________________________________________________________________________________________________\n",
      "block5c_se_excite (Multiply)    (None, None, None, 6 0           block5c_activation[0][0]         \n",
      "                                                                 block5c_se_expand[0][0]          \n",
      "__________________________________________________________________________________________________\n",
      "block5c_project_conv (Conv2D)   (None, None, None, 1 75264       block5c_se_excite[0][0]          \n",
      "__________________________________________________________________________________________________\n",
      "block5c_project_bn (BatchNormal (None, None, None, 1 448         block5c_project_conv[0][0]       \n",
      "__________________________________________________________________________________________________\n",
      "block5c_drop (FixedDropout)     (None, None, None, 1 0           block5c_project_bn[0][0]         \n",
      "__________________________________________________________________________________________________\n",
      "block5c_add (Add)               (None, None, None, 1 0           block5c_drop[0][0]               \n",
      "                                                                 block5b_add[0][0]                \n",
      "__________________________________________________________________________________________________\n",
      "block6a_expand_conv (Conv2D)    (None, None, None, 6 75264       block5c_add[0][0]                \n",
      "__________________________________________________________________________________________________\n",
      "block6a_expand_bn (BatchNormali (None, None, None, 6 2688        block6a_expand_conv[0][0]        \n",
      "__________________________________________________________________________________________________\n",
      "block6a_expand_activation (Acti (None, None, None, 6 0           block6a_expand_bn[0][0]          \n",
      "__________________________________________________________________________________________________\n",
      "block6a_dwconv (DepthwiseConv2D (None, None, None, 6 16800       block6a_expand_activation[0][0]  \n",
      "__________________________________________________________________________________________________\n",
      "block6a_bn (BatchNormalization) (None, None, None, 6 2688        block6a_dwconv[0][0]             \n",
      "__________________________________________________________________________________________________\n",
      "block6a_activation (Activation) (None, None, None, 6 0           block6a_bn[0][0]                 \n",
      "__________________________________________________________________________________________________\n",
      "block6a_se_squeeze (GlobalAvera (None, 672)          0           block6a_activation[0][0]         \n",
      "__________________________________________________________________________________________________\n",
      "block6a_se_reshape (Reshape)    (None, 1, 1, 672)    0           block6a_se_squeeze[0][0]         \n",
      "__________________________________________________________________________________________________\n",
      "block6a_se_reduce (Conv2D)      (None, 1, 1, 28)     18844       block6a_se_reshape[0][0]         \n",
      "__________________________________________________________________________________________________\n",
      "block6a_se_expand (Conv2D)      (None, 1, 1, 672)    19488       block6a_se_reduce[0][0]          \n",
      "__________________________________________________________________________________________________\n",
      "block6a_se_excite (Multiply)    (None, None, None, 6 0           block6a_activation[0][0]         \n",
      "                                                                 block6a_se_expand[0][0]          \n",
      "__________________________________________________________________________________________________\n",
      "block6a_project_conv (Conv2D)   (None, None, None, 1 129024      block6a_se_excite[0][0]          \n",
      "__________________________________________________________________________________________________\n",
      "block6a_project_bn (BatchNormal (None, None, None, 1 768         block6a_project_conv[0][0]       \n",
      "__________________________________________________________________________________________________\n",
      "block6b_expand_conv (Conv2D)    (None, None, None, 1 221184      block6a_project_bn[0][0]         \n",
      "__________________________________________________________________________________________________\n",
      "block6b_expand_bn (BatchNormali (None, None, None, 1 4608        block6b_expand_conv[0][0]        \n",
      "__________________________________________________________________________________________________\n",
      "block6b_expand_activation (Acti (None, None, None, 1 0           block6b_expand_bn[0][0]          \n",
      "__________________________________________________________________________________________________\n",
      "block6b_dwconv (DepthwiseConv2D (None, None, None, 1 28800       block6b_expand_activation[0][0]  \n",
      "__________________________________________________________________________________________________\n",
      "block6b_bn (BatchNormalization) (None, None, None, 1 4608        block6b_dwconv[0][0]             \n",
      "__________________________________________________________________________________________________\n",
      "block6b_activation (Activation) (None, None, None, 1 0           block6b_bn[0][0]                 \n",
      "__________________________________________________________________________________________________\n",
      "block6b_se_squeeze (GlobalAvera (None, 1152)         0           block6b_activation[0][0]         \n",
      "__________________________________________________________________________________________________\n",
      "block6b_se_reshape (Reshape)    (None, 1, 1, 1152)   0           block6b_se_squeeze[0][0]         \n",
      "__________________________________________________________________________________________________\n",
      "block6b_se_reduce (Conv2D)      (None, 1, 1, 48)     55344       block6b_se_reshape[0][0]         \n",
      "__________________________________________________________________________________________________\n",
      "block6b_se_expand (Conv2D)      (None, 1, 1, 1152)   56448       block6b_se_reduce[0][0]          \n",
      "__________________________________________________________________________________________________\n",
      "block6b_se_excite (Multiply)    (None, None, None, 1 0           block6b_activation[0][0]         \n",
      "                                                                 block6b_se_expand[0][0]          \n",
      "__________________________________________________________________________________________________\n",
      "block6b_project_conv (Conv2D)   (None, None, None, 1 221184      block6b_se_excite[0][0]          \n",
      "__________________________________________________________________________________________________\n",
      "block6b_project_bn (BatchNormal (None, None, None, 1 768         block6b_project_conv[0][0]       \n",
      "__________________________________________________________________________________________________\n",
      "block6b_drop (FixedDropout)     (None, None, None, 1 0           block6b_project_bn[0][0]         \n",
      "__________________________________________________________________________________________________\n",
      "block6b_add (Add)               (None, None, None, 1 0           block6b_drop[0][0]               \n",
      "                                                                 block6a_project_bn[0][0]         \n",
      "__________________________________________________________________________________________________\n",
      "block6c_expand_conv (Conv2D)    (None, None, None, 1 221184      block6b_add[0][0]                \n",
      "__________________________________________________________________________________________________\n",
      "block6c_expand_bn (BatchNormali (None, None, None, 1 4608        block6c_expand_conv[0][0]        \n",
      "__________________________________________________________________________________________________\n",
      "block6c_expand_activation (Acti (None, None, None, 1 0           block6c_expand_bn[0][0]          \n",
      "__________________________________________________________________________________________________\n",
      "block6c_dwconv (DepthwiseConv2D (None, None, None, 1 28800       block6c_expand_activation[0][0]  \n",
      "__________________________________________________________________________________________________\n",
      "block6c_bn (BatchNormalization) (None, None, None, 1 4608        block6c_dwconv[0][0]             \n",
      "__________________________________________________________________________________________________\n",
      "block6c_activation (Activation) (None, None, None, 1 0           block6c_bn[0][0]                 \n",
      "__________________________________________________________________________________________________\n",
      "block6c_se_squeeze (GlobalAvera (None, 1152)         0           block6c_activation[0][0]         \n",
      "__________________________________________________________________________________________________\n",
      "block6c_se_reshape (Reshape)    (None, 1, 1, 1152)   0           block6c_se_squeeze[0][0]         \n",
      "__________________________________________________________________________________________________\n",
      "block6c_se_reduce (Conv2D)      (None, 1, 1, 48)     55344       block6c_se_reshape[0][0]         \n",
      "__________________________________________________________________________________________________\n",
      "block6c_se_expand (Conv2D)      (None, 1, 1, 1152)   56448       block6c_se_reduce[0][0]          \n",
      "__________________________________________________________________________________________________\n",
      "block6c_se_excite (Multiply)    (None, None, None, 1 0           block6c_activation[0][0]         \n",
      "                                                                 block6c_se_expand[0][0]          \n",
      "__________________________________________________________________________________________________\n",
      "block6c_project_conv (Conv2D)   (None, None, None, 1 221184      block6c_se_excite[0][0]          \n",
      "__________________________________________________________________________________________________\n",
      "block6c_project_bn (BatchNormal (None, None, None, 1 768         block6c_project_conv[0][0]       \n",
      "__________________________________________________________________________________________________\n",
      "block6c_drop (FixedDropout)     (None, None, None, 1 0           block6c_project_bn[0][0]         \n",
      "__________________________________________________________________________________________________\n",
      "block6c_add (Add)               (None, None, None, 1 0           block6c_drop[0][0]               \n",
      "                                                                 block6b_add[0][0]                \n",
      "__________________________________________________________________________________________________\n",
      "block6d_expand_conv (Conv2D)    (None, None, None, 1 221184      block6c_add[0][0]                \n",
      "__________________________________________________________________________________________________\n",
      "block6d_expand_bn (BatchNormali (None, None, None, 1 4608        block6d_expand_conv[0][0]        \n",
      "__________________________________________________________________________________________________\n",
      "block6d_expand_activation (Acti (None, None, None, 1 0           block6d_expand_bn[0][0]          \n",
      "__________________________________________________________________________________________________\n",
      "block6d_dwconv (DepthwiseConv2D (None, None, None, 1 28800       block6d_expand_activation[0][0]  \n",
      "__________________________________________________________________________________________________\n",
      "block6d_bn (BatchNormalization) (None, None, None, 1 4608        block6d_dwconv[0][0]             \n",
      "__________________________________________________________________________________________________\n",
      "block6d_activation (Activation) (None, None, None, 1 0           block6d_bn[0][0]                 \n",
      "__________________________________________________________________________________________________\n",
      "block6d_se_squeeze (GlobalAvera (None, 1152)         0           block6d_activation[0][0]         \n",
      "__________________________________________________________________________________________________\n",
      "block6d_se_reshape (Reshape)    (None, 1, 1, 1152)   0           block6d_se_squeeze[0][0]         \n",
      "__________________________________________________________________________________________________\n",
      "block6d_se_reduce (Conv2D)      (None, 1, 1, 48)     55344       block6d_se_reshape[0][0]         \n",
      "__________________________________________________________________________________________________\n",
      "block6d_se_expand (Conv2D)      (None, 1, 1, 1152)   56448       block6d_se_reduce[0][0]          \n",
      "__________________________________________________________________________________________________\n",
      "block6d_se_excite (Multiply)    (None, None, None, 1 0           block6d_activation[0][0]         \n",
      "                                                                 block6d_se_expand[0][0]          \n",
      "__________________________________________________________________________________________________\n",
      "block6d_project_conv (Conv2D)   (None, None, None, 1 221184      block6d_se_excite[0][0]          \n",
      "__________________________________________________________________________________________________\n",
      "block6d_project_bn (BatchNormal (None, None, None, 1 768         block6d_project_conv[0][0]       \n",
      "__________________________________________________________________________________________________\n",
      "block6d_drop (FixedDropout)     (None, None, None, 1 0           block6d_project_bn[0][0]         \n",
      "__________________________________________________________________________________________________\n",
      "block6d_add (Add)               (None, None, None, 1 0           block6d_drop[0][0]               \n",
      "                                                                 block6c_add[0][0]                \n",
      "__________________________________________________________________________________________________\n",
      "block7a_expand_conv (Conv2D)    (None, None, None, 1 221184      block6d_add[0][0]                \n",
      "__________________________________________________________________________________________________\n",
      "block7a_expand_bn (BatchNormali (None, None, None, 1 4608        block7a_expand_conv[0][0]        \n",
      "__________________________________________________________________________________________________\n",
      "block7a_expand_activation (Acti (None, None, None, 1 0           block7a_expand_bn[0][0]          \n",
      "__________________________________________________________________________________________________\n",
      "block7a_dwconv (DepthwiseConv2D (None, None, None, 1 10368       block7a_expand_activation[0][0]  \n",
      "__________________________________________________________________________________________________\n",
      "block7a_bn (BatchNormalization) (None, None, None, 1 4608        block7a_dwconv[0][0]             \n",
      "__________________________________________________________________________________________________\n",
      "block7a_activation (Activation) (None, None, None, 1 0           block7a_bn[0][0]                 \n",
      "__________________________________________________________________________________________________\n",
      "block7a_se_squeeze (GlobalAvera (None, 1152)         0           block7a_activation[0][0]         \n",
      "__________________________________________________________________________________________________\n",
      "block7a_se_reshape (Reshape)    (None, 1, 1, 1152)   0           block7a_se_squeeze[0][0]         \n",
      "__________________________________________________________________________________________________\n",
      "block7a_se_reduce (Conv2D)      (None, 1, 1, 48)     55344       block7a_se_reshape[0][0]         \n",
      "__________________________________________________________________________________________________\n",
      "block7a_se_expand (Conv2D)      (None, 1, 1, 1152)   56448       block7a_se_reduce[0][0]          \n",
      "__________________________________________________________________________________________________\n",
      "block7a_se_excite (Multiply)    (None, None, None, 1 0           block7a_activation[0][0]         \n",
      "                                                                 block7a_se_expand[0][0]          \n",
      "__________________________________________________________________________________________________\n",
      "block7a_project_conv (Conv2D)   (None, None, None, 3 368640      block7a_se_excite[0][0]          \n",
      "__________________________________________________________________________________________________\n",
      "block7a_project_bn (BatchNormal (None, None, None, 3 1280        block7a_project_conv[0][0]       \n",
      "__________________________________________________________________________________________________\n",
      "top_conv (Conv2D)               (None, None, None, 1 409600      block7a_project_bn[0][0]         \n",
      "__________________________________________________________________________________________________\n",
      "top_bn (BatchNormalization)     (None, None, None, 1 5120        top_conv[0][0]                   \n",
      "__________________________________________________________________________________________________\n",
      "top_activation (Activation)     (None, None, None, 1 0           top_bn[0][0]                     \n",
      "__________________________________________________________________________________________________\n",
      "global_average_pooling2d_5 (Glo (None, 1280)         0           top_activation[0][0]             \n",
      "__________________________________________________________________________________________________\n",
      "dense_5 (Dense)                 (None, 196)          251076      global_average_pooling2d_5[0][0] \n",
      "==================================================================================================\n",
      "Total params: 4,300,640\n",
      "Trainable params: 293,092\n",
      "Non-trainable params: 4,007,548\n",
      "__________________________________________________________________________________________________\n"
     ]
    }
   ],
   "source": [
    "# set up the transfer learning model structure\n",
    "base_model = efn.EfficientNetB0(weights='imagenet', include_top=False)\n",
    "x = base_model.output\n",
    "x = GlobalAveragePooling2D()(x)\n",
    "predictions = Dense(len(train_data.class_indices), activation='softmax')(x)\n",
    "model = Model(inputs=base_model.input, outputs=predictions)\n",
    "\n",
    "#  batch normalization will be trainable with the top layer\n",
    "for layer in base_model.layers:\n",
    "    if isinstance(layer, BatchNormalization):\n",
    "        layer.trainable = True\n",
    "    else:\n",
    "        layer.trainable = False\n",
    "\n",
    "# compile the model\n",
    "model.compile(optimizer=keras.optimizers.Adam(learning_rate=0.0001), \n",
    "              loss='categorical_crossentropy', \n",
    "              metrics=['acc'])\n",
    "\n",
    "model.summary()"
   ]
  },
  {
   "cell_type": "code",
   "execution_count": 28,
   "id": "8d7953b6",
   "metadata": {},
   "outputs": [
    {
     "name": "stdout",
     "output_type": "stream",
     "text": [
      "Epoch 1/10\n",
      "207/207 [==============================] - 618s 3s/step - loss: 5.2677 - acc: 0.0121 - val_loss: 5.1613 - val_acc: 0.0194\n",
      "Epoch 2/10\n",
      "207/207 [==============================] - 668s 3s/step - loss: 5.0576 - acc: 0.0409 - val_loss: 5.0025 - val_acc: 0.0459\n",
      "Epoch 3/10\n",
      "207/207 [==============================] - 687s 3s/step - loss: 4.8754 - acc: 0.0838 - val_loss: 4.8390 - val_acc: 0.0886\n",
      "Epoch 4/10\n",
      "207/207 [==============================] - 605s 3s/step - loss: 4.6865 - acc: 0.1361 - val_loss: 4.6599 - val_acc: 0.1248\n",
      "Epoch 5/10\n",
      "207/207 [==============================] - 602s 3s/step - loss: 4.4894 - acc: 0.2028 - val_loss: 4.4864 - val_acc: 0.1578\n",
      "Epoch 6/10\n",
      "207/207 [==============================] - 815s 4s/step - loss: 4.2894 - acc: 0.2527 - val_loss: 4.2953 - val_acc: 0.2012\n",
      "Epoch 7/10\n",
      "207/207 [==============================] - 652s 3s/step - loss: 4.0920 - acc: 0.2978 - val_loss: 4.1313 - val_acc: 0.2219\n",
      "Epoch 8/10\n",
      "207/207 [==============================] - 592s 3s/step - loss: 3.8919 - acc: 0.3315 - val_loss: 3.9462 - val_acc: 0.2523\n",
      "Epoch 9/10\n",
      "207/207 [==============================] - 587s 3s/step - loss: 3.6876 - acc: 0.3692 - val_loss: 3.7903 - val_acc: 0.2743\n",
      "Epoch 10/10\n",
      "207/207 [==============================] - 654s 3s/step - loss: 3.4928 - acc: 0.4103 - val_loss: 3.6135 - val_acc: 0.3111\n"
     ]
    }
   ],
   "source": [
    "history = model.fit_generator(generator=train_data,\n",
    "                              steps_per_epoch=train_data.samples // batch_size + 1 ,\n",
    "                              validation_data=validation_data,\n",
    "                              validation_steps=validation_data.samples // batch_size + 1,\n",
    "                              epochs=10,                           \n",
    "                              workers=8,             \n",
    "                              max_queue_size=32,             \n",
    "                              verbose=1)"
   ]
  },
  {
   "cell_type": "code",
   "execution_count": 29,
   "id": "0c66d000",
   "metadata": {},
   "outputs": [
    {
     "name": "stdout",
     "output_type": "stream",
     "text": [
      "252/252 [==============================] - 210s 832ms/step - loss: 3.6209 - acc: 0.3062\n",
      "Test loss: 3.620945930480957\n",
      "Test accuracy: 0.30618083477020264\n"
     ]
    }
   ],
   "source": [
    "# Evaluate the model's performance on the test data\n",
    "score = model.evaluate(test_data, verbose=1)\n",
    "\n",
    "print('Test loss:', score[0])\n",
    "print('Test accuracy:', score[1])"
   ]
  },
  {
   "cell_type": "code",
   "execution_count": 30,
   "id": "fac28e1b",
   "metadata": {},
   "outputs": [
    {
     "name": "stdout",
     "output_type": "stream",
     "text": [
      "INFO:tensorflow:Assets written to: models/transfer_model_B0_lr0001\\assets\n"
     ]
    },
    {
     "name": "stderr",
     "output_type": "stream",
     "text": [
      "C:\\ProgramData\\Anaconda3\\lib\\site-packages\\keras\\utils\\generic_utils.py:494: CustomMaskWarning: Custom mask layers require a config and must override get_config. When loading, the custom mask layer must be passed to the custom_objects argument.\n",
      "  warnings.warn('Custom mask layers require a config and must override '\n"
     ]
    }
   ],
   "source": [
    "model.save('models/transfer_model_B0_lr0001')"
   ]
  },
  {
   "cell_type": "code",
   "execution_count": 9,
   "id": "a11b350d",
   "metadata": {},
   "outputs": [],
   "source": [
    "reconstructed_model = keras.models.load_model('models/transfer_model_B0_lr0001')"
   ]
  },
  {
   "cell_type": "code",
   "execution_count": 10,
   "id": "bacd19c0",
   "metadata": {
    "scrolled": true
   },
   "outputs": [
    {
     "name": "stdout",
     "output_type": "stream",
     "text": [
      "Epoch 11/20\n",
      "207/207 [==============================] - 697s 3s/step - loss: 3.3180 - acc: 0.4400 - val_loss: 3.4755 - val_acc: 0.3299\n",
      "Epoch 12/20\n",
      "207/207 [==============================] - 678s 3s/step - loss: 3.1247 - acc: 0.4779 - val_loss: 3.3360 - val_acc: 0.3448\n",
      "Epoch 13/20\n",
      "207/207 [==============================] - 653s 3s/step - loss: 2.9571 - acc: 0.4950 - val_loss: 3.1979 - val_acc: 0.3687\n",
      "Epoch 14/20\n",
      "207/207 [==============================] - 642s 3s/step - loss: 2.8002 - acc: 0.5238 - val_loss: 3.0658 - val_acc: 0.3894\n",
      "Epoch 15/20\n",
      "207/207 [==============================] - 671s 3s/step - loss: 2.6442 - acc: 0.5446 - val_loss: 2.9321 - val_acc: 0.4172\n",
      "Epoch 16/20\n",
      "207/207 [==============================] - 670s 3s/step - loss: 2.5157 - acc: 0.5667 - val_loss: 2.8182 - val_acc: 0.4327\n",
      "Epoch 17/20\n",
      "207/207 [==============================] - 667s 3s/step - loss: 2.3719 - acc: 0.5861 - val_loss: 2.6952 - val_acc: 0.4470\n",
      "Epoch 18/20\n",
      "207/207 [==============================] - 684s 3s/step - loss: 2.2455 - acc: 0.6132 - val_loss: 2.6074 - val_acc: 0.4664\n",
      "Epoch 19/20\n",
      "207/207 [==============================] - 622s 3s/step - loss: 2.1282 - acc: 0.6290 - val_loss: 2.5080 - val_acc: 0.4838\n",
      "Epoch 20/20\n",
      "207/207 [==============================] - 560s 3s/step - loss: 2.0201 - acc: 0.6499 - val_loss: 2.4166 - val_acc: 0.4922\n"
     ]
    }
   ],
   "source": [
    "r_history = reconstructed_model.fit_generator(generator=train_data,\n",
    "                                              steps_per_epoch=train_data.samples // batch_size + 1 ,\n",
    "                                              validation_data=validation_data,\n",
    "                                              validation_steps=validation_data.samples // batch_size + 1,\n",
    "                                              initial_epoch=10,\n",
    "                                              epochs=20,                           \n",
    "                                              workers=8,             \n",
    "                                              max_queue_size=32,             \n",
    "                                              verbose=1)"
   ]
  },
  {
   "cell_type": "code",
   "execution_count": 11,
   "id": "debf9704",
   "metadata": {},
   "outputs": [
    {
     "name": "stdout",
     "output_type": "stream",
     "text": [
      "252/252 [==============================] - 202s 802ms/step - loss: 2.4187 - acc: 0.4957\n",
      "Test loss: 2.4186792373657227\n",
      "Test accuracy: 0.49570947885513306\n"
     ]
    }
   ],
   "source": [
    "# Evaluate the model's performance on the test data\n",
    "score = reconstructed_model.evaluate(test_data, verbose=1)\n",
    "\n",
    "print('Test loss:', score[0])\n",
    "print('Test accuracy:', score[1])"
   ]
  },
  {
   "cell_type": "code",
   "execution_count": 13,
   "id": "332164c9",
   "metadata": {},
   "outputs": [
    {
     "name": "stdout",
     "output_type": "stream",
     "text": [
      "INFO:tensorflow:Assets written to: models/transfer_model_B0_lr0001_20epoch\\assets\n"
     ]
    },
    {
     "name": "stderr",
     "output_type": "stream",
     "text": [
      "C:\\ProgramData\\Anaconda3\\lib\\site-packages\\keras\\utils\\generic_utils.py:494: CustomMaskWarning: Custom mask layers require a config and must override get_config. When loading, the custom mask layer must be passed to the custom_objects argument.\n",
      "  warnings.warn('Custom mask layers require a config and must override '\n"
     ]
    }
   ],
   "source": [
    "reconstructed_model.save('models/transfer_model_B0_lr0001_20epoch')"
   ]
  },
  {
   "cell_type": "code",
   "execution_count": 14,
   "id": "d36a35ee",
   "metadata": {},
   "outputs": [],
   "source": [
    "reconstructed_model = keras.models.load_model('models/transfer_model_B0_lr0001_20epoch')"
   ]
  },
  {
   "cell_type": "code",
   "execution_count": 15,
   "id": "1682142f",
   "metadata": {},
   "outputs": [
    {
     "name": "stderr",
     "output_type": "stream",
     "text": [
      "C:\\ProgramData\\Anaconda3\\lib\\site-packages\\keras\\engine\\training.py:1972: UserWarning: `Model.fit_generator` is deprecated and will be removed in a future version. Please use `Model.fit`, which supports generators.\n",
      "  warnings.warn('`Model.fit_generator` is deprecated and '\n"
     ]
    },
    {
     "name": "stdout",
     "output_type": "stream",
     "text": [
      "Epoch 21/30\n",
      "207/207 [==============================] - 586s 3s/step - loss: 1.9287 - acc: 0.6620 - val_loss: 2.3270 - val_acc: 0.5013\n",
      "Epoch 22/30\n",
      "207/207 [==============================] - 566s 3s/step - loss: 1.8050 - acc: 0.6844 - val_loss: 2.2610 - val_acc: 0.5201\n",
      "Epoch 23/30\n",
      "207/207 [==============================] - 561s 3s/step - loss: 1.7193 - acc: 0.6948 - val_loss: 2.1571 - val_acc: 0.5362\n",
      "Epoch 24/30\n",
      "207/207 [==============================] - 542s 3s/step - loss: 1.6331 - acc: 0.7178 - val_loss: 2.1034 - val_acc: 0.5310\n",
      "Epoch 25/30\n",
      "207/207 [==============================] - 566s 3s/step - loss: 1.5490 - acc: 0.7328 - val_loss: 2.0428 - val_acc: 0.5543\n",
      "Epoch 26/30\n",
      "207/207 [==============================] - 544s 3s/step - loss: 1.4879 - acc: 0.7373 - val_loss: 1.9793 - val_acc: 0.5692\n",
      "Epoch 27/30\n",
      "207/207 [==============================] - 518s 2s/step - loss: 1.4219 - acc: 0.7516 - val_loss: 1.9413 - val_acc: 0.5699\n",
      "Epoch 28/30\n",
      "207/207 [==============================] - 515s 2s/step - loss: 1.3661 - acc: 0.7613 - val_loss: 1.8679 - val_acc: 0.5854\n",
      "Epoch 29/30\n",
      "207/207 [==============================] - 513s 2s/step - loss: 1.2978 - acc: 0.7724 - val_loss: 1.8280 - val_acc: 0.5860\n",
      "Epoch 30/30\n",
      "207/207 [==============================] - 514s 2s/step - loss: 1.2375 - acc: 0.7801 - val_loss: 1.7758 - val_acc: 0.6074\n"
     ]
    }
   ],
   "source": [
    "r_history = reconstructed_model.fit_generator(generator=train_data,\n",
    "                                              steps_per_epoch=train_data.samples // batch_size + 1 ,\n",
    "                                              validation_data=validation_data,\n",
    "                                              validation_steps=validation_data.samples // batch_size + 1,\n",
    "                                              initial_epoch=20,\n",
    "                                              epochs=30,                           \n",
    "                                              workers=8,             \n",
    "                                              max_queue_size=32,             \n",
    "                                              verbose=1)"
   ]
  },
  {
   "cell_type": "code",
   "execution_count": 16,
   "id": "cd37748a",
   "metadata": {},
   "outputs": [
    {
     "name": "stdout",
     "output_type": "stream",
     "text": [
      "252/252 [==============================] - 180s 714ms/step - loss: 1.7827 - acc: 0.5952\n",
      "Test loss: 1.7826638221740723\n",
      "Test accuracy: 0.5951995849609375\n"
     ]
    }
   ],
   "source": [
    "# Evaluate the model's performance on the test data\n",
    "score = reconstructed_model.evaluate(test_data, verbose=1)\n",
    "\n",
    "print('Test loss:', score[0])\n",
    "print('Test accuracy:', score[1])"
   ]
  },
  {
   "cell_type": "code",
   "execution_count": 17,
   "id": "3ad3c089",
   "metadata": {},
   "outputs": [
    {
     "name": "stdout",
     "output_type": "stream",
     "text": [
      "INFO:tensorflow:Assets written to: models/transfer_model_B0_lr0001_30epoch\\assets\n"
     ]
    },
    {
     "name": "stderr",
     "output_type": "stream",
     "text": [
      "C:\\ProgramData\\Anaconda3\\lib\\site-packages\\keras\\utils\\generic_utils.py:494: CustomMaskWarning: Custom mask layers require a config and must override get_config. When loading, the custom mask layer must be passed to the custom_objects argument.\n",
      "  warnings.warn('Custom mask layers require a config and must override '\n"
     ]
    }
   ],
   "source": [
    "reconstructed_model.save('models/transfer_model_B0_lr0001_30epoch')"
   ]
  },
  {
   "cell_type": "code",
   "execution_count": 18,
   "id": "83e210a9",
   "metadata": {},
   "outputs": [],
   "source": [
    "reconstructed_model = keras.models.load_model('models/transfer_model_B0_lr0001_30epoch')"
   ]
  },
  {
   "cell_type": "code",
   "execution_count": 19,
   "id": "9f2c7560",
   "metadata": {},
   "outputs": [
    {
     "name": "stderr",
     "output_type": "stream",
     "text": [
      "C:\\ProgramData\\Anaconda3\\lib\\site-packages\\keras\\engine\\training.py:1972: UserWarning: `Model.fit_generator` is deprecated and will be removed in a future version. Please use `Model.fit`, which supports generators.\n",
      "  warnings.warn('`Model.fit_generator` is deprecated and '\n"
     ]
    },
    {
     "name": "stdout",
     "output_type": "stream",
     "text": [
      "Epoch 31/40\n",
      "207/207 [==============================] - 575s 3s/step - loss: 1.1983 - acc: 0.7822 - val_loss: 1.7368 - val_acc: 0.5957\n",
      "Epoch 32/40\n",
      "207/207 [==============================] - 553s 3s/step - loss: 1.1367 - acc: 0.7949 - val_loss: 1.6888 - val_acc: 0.6158\n",
      "Epoch 33/40\n",
      "207/207 [==============================] - 518s 2s/step - loss: 1.0864 - acc: 0.8039 - val_loss: 1.6513 - val_acc: 0.6177\n",
      "Epoch 34/40\n",
      "207/207 [==============================] - 545s 3s/step - loss: 1.0449 - acc: 0.8143 - val_loss: 1.6285 - val_acc: 0.6210\n",
      "Epoch 35/40\n",
      "207/207 [==============================] - 528s 3s/step - loss: 1.0026 - acc: 0.8192 - val_loss: 1.5796 - val_acc: 0.6352\n",
      "Epoch 36/40\n",
      "207/207 [==============================] - 525s 3s/step - loss: 0.9657 - acc: 0.8303 - val_loss: 1.5454 - val_acc: 0.6410\n",
      "Epoch 37/40\n",
      "207/207 [==============================] - 581s 3s/step - loss: 0.9136 - acc: 0.8415 - val_loss: 1.5107 - val_acc: 0.6397\n",
      "Epoch 38/40\n",
      "207/207 [==============================] - 567s 3s/step - loss: 0.9067 - acc: 0.8360 - val_loss: 1.4908 - val_acc: 0.6481\n",
      "Epoch 39/40\n",
      "207/207 [==============================] - 606s 3s/step - loss: 0.8523 - acc: 0.8487 - val_loss: 1.4396 - val_acc: 0.6468\n",
      "Epoch 40/40\n",
      "207/207 [==============================] - 695s 3s/step - loss: 0.8231 - acc: 0.8594 - val_loss: 1.4208 - val_acc: 0.6559\n"
     ]
    }
   ],
   "source": [
    "r_history = reconstructed_model.fit_generator(generator=train_data,\n",
    "                                              steps_per_epoch=train_data.samples // batch_size + 1 ,\n",
    "                                              validation_data=validation_data,\n",
    "                                              validation_steps=validation_data.samples // batch_size + 1,\n",
    "                                              initial_epoch=30,\n",
    "                                              epochs=40,                           \n",
    "                                              workers=8,             \n",
    "                                              max_queue_size=32,             \n",
    "                                              verbose=1)"
   ]
  },
  {
   "cell_type": "code",
   "execution_count": 20,
   "id": "2efb2204",
   "metadata": {},
   "outputs": [
    {
     "name": "stdout",
     "output_type": "stream",
     "text": [
      "252/252 [==============================] - 259s 1s/step - loss: 1.4461 - acc: 0.6523\n",
      "Test loss: 1.4460686445236206\n",
      "Test accuracy: 0.6522820591926575\n"
     ]
    }
   ],
   "source": [
    "# Evaluate the model's performance on the test data\n",
    "score = reconstructed_model.evaluate(test_data, verbose=1)\n",
    "\n",
    "print('Test loss:', score[0])\n",
    "print('Test accuracy:', score[1])"
   ]
  },
  {
   "cell_type": "code",
   "execution_count": 21,
   "id": "2a53e531",
   "metadata": {},
   "outputs": [
    {
     "name": "stdout",
     "output_type": "stream",
     "text": [
      "INFO:tensorflow:Assets written to: models/transfer_model_B0_lr0001_40epoch\\assets\n"
     ]
    },
    {
     "name": "stderr",
     "output_type": "stream",
     "text": [
      "C:\\ProgramData\\Anaconda3\\lib\\site-packages\\keras\\utils\\generic_utils.py:494: CustomMaskWarning: Custom mask layers require a config and must override get_config. When loading, the custom mask layer must be passed to the custom_objects argument.\n",
      "  warnings.warn('Custom mask layers require a config and must override '\n"
     ]
    }
   ],
   "source": [
    "reconstructed_model.save('models/transfer_model_B0_lr0001_40epoch')"
   ]
  },
  {
   "cell_type": "code",
   "execution_count": 4,
   "id": "a44adae3",
   "metadata": {},
   "outputs": [],
   "source": [
    "reconstructed_model = keras.models.load_model('models/transfer_model_B0_lr0001_40epoch')"
   ]
  },
  {
   "cell_type": "code",
   "execution_count": 5,
   "id": "56b164a3",
   "metadata": {},
   "outputs": [
    {
     "name": "stderr",
     "output_type": "stream",
     "text": [
      "C:\\ProgramData\\Anaconda3\\lib\\site-packages\\keras\\engine\\training.py:1972: UserWarning: `Model.fit_generator` is deprecated and will be removed in a future version. Please use `Model.fit`, which supports generators.\n",
      "  warnings.warn('`Model.fit_generator` is deprecated and '\n"
     ]
    },
    {
     "name": "stdout",
     "output_type": "stream",
     "text": [
      "Epoch 41/50\n",
      "207/207 [==============================] - 737s 3s/step - loss: 0.7994 - acc: 0.8589 - val_loss: 1.4139 - val_acc: 0.6591\n",
      "Epoch 42/50\n",
      "207/207 [==============================] - 741s 4s/step - loss: 0.7654 - acc: 0.8644 - val_loss: 1.3909 - val_acc: 0.6611\n",
      "Epoch 43/50\n",
      "207/207 [==============================] - 745s 4s/step - loss: 0.7257 - acc: 0.8715 - val_loss: 1.3735 - val_acc: 0.6656\n",
      "Epoch 44/50\n",
      "207/207 [==============================] - 719s 3s/step - loss: 0.7089 - acc: 0.8734 - val_loss: 1.3351 - val_acc: 0.6734\n",
      "Epoch 45/50\n",
      "207/207 [==============================] - 700s 3s/step - loss: 0.6790 - acc: 0.8842 - val_loss: 1.3400 - val_acc: 0.6617\n",
      "Epoch 46/50\n",
      "207/207 [==============================] - 669s 3s/step - loss: 0.6544 - acc: 0.8862 - val_loss: 1.3137 - val_acc: 0.6759\n",
      "Epoch 47/50\n",
      "207/207 [==============================] - 684s 3s/step - loss: 0.6373 - acc: 0.8875 - val_loss: 1.2872 - val_acc: 0.6811\n",
      "Epoch 48/50\n",
      "207/207 [==============================] - 672s 3s/step - loss: 0.6185 - acc: 0.8928 - val_loss: 1.2690 - val_acc: 0.6772\n",
      "Epoch 49/50\n",
      "207/207 [==============================] - 664s 3s/step - loss: 0.5916 - acc: 0.8992 - val_loss: 1.2572 - val_acc: 0.6753\n",
      "Epoch 50/50\n",
      "207/207 [==============================] - 671s 3s/step - loss: 0.5803 - acc: 0.9033 - val_loss: 1.2263 - val_acc: 0.6960\n"
     ]
    }
   ],
   "source": [
    "r_history = reconstructed_model.fit_generator(generator=train_data,\n",
    "                                              steps_per_epoch=train_data.samples // batch_size + 1 ,\n",
    "                                              validation_data=validation_data,\n",
    "                                              validation_steps=validation_data.samples // batch_size + 1,\n",
    "                                              initial_epoch=40,\n",
    "                                              epochs=50,                           \n",
    "                                              workers=8,             \n",
    "                                              max_queue_size=32,             \n",
    "                                              verbose=1)"
   ]
  },
  {
   "cell_type": "code",
   "execution_count": 6,
   "id": "e35e2e29",
   "metadata": {},
   "outputs": [
    {
     "name": "stdout",
     "output_type": "stream",
     "text": [
      "252/252 [==============================] - 238s 945ms/step - loss: 1.2616 - acc: 0.6862\n",
      "Test loss: 1.2615721225738525\n",
      "Test accuracy: 0.6862330436706543\n"
     ]
    }
   ],
   "source": [
    "# Evaluate the model's performance on the test data\n",
    "score = reconstructed_model.evaluate(test_data, verbose=1)\n",
    "\n",
    "print('Test loss:', score[0])\n",
    "print('Test accuracy:', score[1])"
   ]
  },
  {
   "cell_type": "code",
   "execution_count": 7,
   "id": "848e76c9",
   "metadata": {},
   "outputs": [
    {
     "name": "stdout",
     "output_type": "stream",
     "text": [
      "INFO:tensorflow:Assets written to: models/transfer_model_B0_lr0001_50epoch\\assets\n"
     ]
    },
    {
     "name": "stderr",
     "output_type": "stream",
     "text": [
      "C:\\ProgramData\\Anaconda3\\lib\\site-packages\\keras\\utils\\generic_utils.py:494: CustomMaskWarning: Custom mask layers require a config and must override get_config. When loading, the custom mask layer must be passed to the custom_objects argument.\n",
      "  warnings.warn('Custom mask layers require a config and must override '\n"
     ]
    }
   ],
   "source": [
    "reconstructed_model.save('models/transfer_model_B0_lr0001_50epoch')"
   ]
  },
  {
   "cell_type": "code",
   "execution_count": 8,
   "id": "49c63ff9",
   "metadata": {},
   "outputs": [],
   "source": [
    "reconstructed_model = keras.models.load_model('models/transfer_model_B0_lr0001_50epoch')"
   ]
  },
  {
   "cell_type": "code",
   "execution_count": 9,
   "id": "d3e8cfbb",
   "metadata": {},
   "outputs": [
    {
     "name": "stderr",
     "output_type": "stream",
     "text": [
      "C:\\ProgramData\\Anaconda3\\lib\\site-packages\\keras\\engine\\training.py:1972: UserWarning: `Model.fit_generator` is deprecated and will be removed in a future version. Please use `Model.fit`, which supports generators.\n",
      "  warnings.warn('`Model.fit_generator` is deprecated and '\n"
     ]
    },
    {
     "name": "stdout",
     "output_type": "stream",
     "text": [
      "Epoch 51/60\n",
      "207/207 [==============================] - 699s 3s/step - loss: 0.5597 - acc: 0.9036 - val_loss: 1.2303 - val_acc: 0.6837\n",
      "Epoch 52/60\n",
      "207/207 [==============================] - 659s 3s/step - loss: 0.5339 - acc: 0.9083 - val_loss: 1.2156 - val_acc: 0.6979\n",
      "Epoch 53/60\n",
      "207/207 [==============================] - 616s 3s/step - loss: 0.5261 - acc: 0.9103 - val_loss: 1.2140 - val_acc: 0.6921\n",
      "Epoch 54/60\n",
      "207/207 [==============================] - 554s 3s/step - loss: 0.5026 - acc: 0.9135 - val_loss: 1.1968 - val_acc: 0.6876\n",
      "Epoch 55/60\n",
      "207/207 [==============================] - 551s 3s/step - loss: 0.4809 - acc: 0.9219 - val_loss: 1.1869 - val_acc: 0.7018\n",
      "Epoch 56/60\n",
      "207/207 [==============================] - 559s 3s/step - loss: 0.4706 - acc: 0.9219 - val_loss: 1.1880 - val_acc: 0.6863\n",
      "Epoch 57/60\n",
      "207/207 [==============================] - 537s 3s/step - loss: 0.4445 - acc: 0.9274 - val_loss: 1.1714 - val_acc: 0.6953\n",
      "Epoch 58/60\n",
      "207/207 [==============================] - 566s 3s/step - loss: 0.4290 - acc: 0.9351 - val_loss: 1.1352 - val_acc: 0.7083\n",
      "Epoch 59/60\n",
      "207/207 [==============================] - 546s 3s/step - loss: 0.4307 - acc: 0.9274 - val_loss: 1.1404 - val_acc: 0.7076\n",
      "Epoch 60/60\n",
      "207/207 [==============================] - 539s 3s/step - loss: 0.4102 - acc: 0.9341 - val_loss: 1.1447 - val_acc: 0.7089\n"
     ]
    }
   ],
   "source": [
    "r_history = reconstructed_model.fit_generator(generator=train_data,\n",
    "                                              steps_per_epoch=train_data.samples // batch_size + 1,\n",
    "                                              validation_data=validation_data,\n",
    "                                              validation_steps=validation_data.samples // batch_size + 1,\n",
    "                                              initial_epoch=50,\n",
    "                                              epochs=60,                           \n",
    "                                              workers=8,             \n",
    "                                              max_queue_size=32,             \n",
    "                                              verbose=1)"
   ]
  },
  {
   "cell_type": "code",
   "execution_count": 10,
   "id": "0054dd8b",
   "metadata": {},
   "outputs": [
    {
     "name": "stdout",
     "output_type": "stream",
     "text": [
      "252/252 [==============================] - 183s 724ms/step - loss: 1.1425 - acc: 0.7073\n",
      "Test loss: 1.1425036191940308\n",
      "Test accuracy: 0.7072503566741943\n"
     ]
    }
   ],
   "source": [
    "# Evaluate the model's performance on the test data\n",
    "score = reconstructed_model.evaluate(test_data, verbose=1)\n",
    "\n",
    "print('Test loss:', score[0])\n",
    "print('Test accuracy:', score[1])"
   ]
  },
  {
   "cell_type": "code",
   "execution_count": 11,
   "id": "d9f25346",
   "metadata": {},
   "outputs": [
    {
     "name": "stdout",
     "output_type": "stream",
     "text": [
      "INFO:tensorflow:Assets written to: models/transfer_model_B0_lr0001_60epoch\\assets\n"
     ]
    },
    {
     "name": "stderr",
     "output_type": "stream",
     "text": [
      "C:\\ProgramData\\Anaconda3\\lib\\site-packages\\keras\\utils\\generic_utils.py:494: CustomMaskWarning: Custom mask layers require a config and must override get_config. When loading, the custom mask layer must be passed to the custom_objects argument.\n",
      "  warnings.warn('Custom mask layers require a config and must override '\n"
     ]
    }
   ],
   "source": [
    "reconstructed_model.save('models/transfer_model_B0_lr0001_60epoch')"
   ]
  },
  {
   "cell_type": "code",
   "execution_count": 5,
   "id": "86fbff2b",
   "metadata": {},
   "outputs": [],
   "source": [
    "reconstructed_model = keras.models.load_model('models/transfer_model_B0_lr001')"
   ]
  },
  {
   "cell_type": "code",
   "execution_count": 6,
   "id": "c2a4c0b2",
   "metadata": {},
   "outputs": [
    {
     "name": "stdout",
     "output_type": "stream",
     "text": [
      "252/252 [==============================] - 235s 921ms/step - loss: 1.0135 - acc: 0.7346\n",
      "Test loss: 1.0135035514831543\n",
      "Test accuracy: 0.7346101403236389\n"
     ]
    }
   ],
   "source": [
    "# Evaluate the model's performance on the test data\n",
    "score = reconstructed_model.evaluate(test_data, verbose=1)\n",
    "\n",
    "print('Test loss:', score[0])\n",
    "print('Test accuracy:', score[1])"
   ]
  },
  {
   "cell_type": "markdown",
   "id": "8bfc2528",
   "metadata": {},
   "source": [
    "### Early Transfer Learning Models: Findings\n",
    "My early transfer learning models proved immediately more predictively powerful than the previous CNN attempts. I attempted models using different learning rates, and confirmed my research that lowering the learning rate helps to prevent overfitting. I attempted different varients of the EfficientNet base model. While this models were better than the original CNNs I attempted, the tuning required more research and thought which I address in my Final Model Training notebook while I make a push for deciding upon and training my final model in preparation for evaluation. "
   ]
  },
  {
   "cell_type": "markdown",
   "id": "5b1d71f5",
   "metadata": {},
   "source": [
    "### Conclusion <a class=\"anchor\" id=\"4\"></a>\n",
    "Implementing a CNN model from scratch proved fruitful, considering a naiive model guessing the majority class every time would provide only __0.8%__ accuracy, however more predictive power is required to make the model worthwhile from a business perspective as marketing data will need to be reliable in order to provide value. Transfer learning has proven very helpful thus far in achieving this goal, but will require better tuning to maximize the model's capabilities. I will tackle final model decisions, building, training, and tuning in my next notebook."
   ]
  }
 ],
 "metadata": {
  "kernelspec": {
   "display_name": "Python 3 (ipykernel)",
   "language": "python",
   "name": "python3"
  },
  "language_info": {
   "codemirror_mode": {
    "name": "ipython",
    "version": 3
   },
   "file_extension": ".py",
   "mimetype": "text/x-python",
   "name": "python",
   "nbconvert_exporter": "python",
   "pygments_lexer": "ipython3",
   "version": "3.9.7"
  }
 },
 "nbformat": 4,
 "nbformat_minor": 5
}
